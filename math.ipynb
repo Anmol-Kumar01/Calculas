{
  "nbformat": 4,
  "nbformat_minor": 0,
  "metadata": {
    "colab": {
      "provenance": [],
      "include_colab_link": true
    },
    "kernelspec": {
      "name": "python3",
      "display_name": "Python 3"
    },
    "language_info": {
      "name": "python"
    }
  },
  "cells": [
    {
      "cell_type": "markdown",
      "metadata": {
        "id": "view-in-github",
        "colab_type": "text"
      },
      "source": [
        "<a href=\"https://colab.research.google.com/github/Anmol-Kumar01/Calculas/blob/main/math.ipynb\" target=\"_parent\"><img src=\"https://colab.research.google.com/assets/colab-badge.svg\" alt=\"Open In Colab\"/></a>"
      ]
    },
    {
      "cell_type": "code",
      "source": [
        "import math\n",
        "import matplotlib.pyplot as plt"
      ],
      "metadata": {
        "id": "KvXqor07Chl6"
      },
      "execution_count": 34,
      "outputs": []
    },
    {
      "cell_type": "code",
      "execution_count": 35,
      "metadata": {
        "colab": {
          "base_uri": "https://localhost:8080/"
        },
        "id": "mVfM1XfyBHXv",
        "outputId": "6bea6a6b-58ce-4c04-ab09-c27694bea5bd"
      },
      "outputs": [
        {
          "name": "stdout",
          "output_type": "stream",
          "text": [
            "Enter A :10\n",
            "Enter B :2\n",
            "Enter c :1\n",
            "Enter x_0 :90\n",
            "Enter v_0 :1\n"
          ]
        }
      ],
      "source": [
        "A = float(input(\"Enter A :\"))\n",
        "B = float(input(\"Enter B :\"))\n",
        "C = float(input(\"Enter c :\"))\n",
        "x_0 = float(input(\"Enter x_0 :\"))\n",
        "v_0 = float(input(\"Enter v_0 :\"))"
      ]
    },
    {
      "cell_type": "code",
      "source": [
        "D = B**2-4*A*C\n",
        "alpha = B/(2*A)\n",
        "beta = (abs((B**2)/(4*A**2)-(C/A)))**0.5\n",
        "a1 = (-B + D**0.5)/2*A\n",
        "a2 = (-B - D**0.5)/2*A"
      ],
      "metadata": {
        "id": "P8ShlLoKBr1K"
      },
      "execution_count": 36,
      "outputs": []
    },
    {
      "cell_type": "code",
      "source": [
        "T = [i / 10 for i in range(1000)]"
      ],
      "metadata": {
        "id": "jMr_rasJVIMH"
      },
      "execution_count": 37,
      "outputs": []
    },
    {
      "cell_type": "code",
      "source": [
        "if D > 0 :\n",
        "  print(\"Over Damped\")\n",
        "  x1 = []\n",
        "    \n",
        "  for t in T:\n",
        "    d1 = (v_0 - x_0*a1) / (a1 - a2)\n",
        "    d2 = (v_0 - x_0*a2) / (a2 - a1)\n",
        "    X = (d1 * math.exp(( - alpha + beta) * t) + d2 * math.exp(( - alpha - beta) * t))   \n",
        "    x1.append(X)\n",
        "elif D < 0:\n",
        "  print(\"Under Damped\")\n",
        "  x1 = []\n",
        "\n",
        "  for t in T:\n",
        "    X = math.exp( - alpha * t) * (x_0 * math.cos(beta * t) + ((v_0 + alpha * x_0) * math.sin(beta * t) / beta))\n",
        "    x1.append(X)\n",
        " \n",
        "elif D == 0:\n",
        "  print(\"Critically Damped\")\n",
        "  x1 = []\n",
        "\n",
        "  for t in T:\n",
        "    X = math.exp( - B * t / (2 * A)) * (x_0 + (v_0 - a1 * x_0) * t)\n",
        "    x1.append(X)\n",
        "\n",
        "\n",
        "# fig = px.line(x = T, y = x1)\n",
        "fig = plt.plot(T,x1)"
      ],
      "metadata": {
        "colab": {
          "base_uri": "https://localhost:8080/",
          "height": 282
        },
        "id": "9yofz_DmCnDk",
        "outputId": "c12fdc29-c25b-4a07-e83b-37781ee7f6f4"
      },
      "execution_count": 38,
      "outputs": [
        {
          "output_type": "stream",
          "name": "stdout",
          "text": [
            "Under Damped\n"
          ]
        },
        {
          "output_type": "display_data",
          "data": {
            "text/plain": [
              "<Figure size 432x288 with 1 Axes>"
            ],
            "image/png": "[encoded data removed]"
          },
          "metadata": {
            "needs_background": "light"
          }
        }
      ]
    }
  ]
}