{
  "nbformat": 4,
  "nbformat_minor": 0,
  "metadata": {
    "colab": {
      "provenance": [],
      "include_colab_link": true
    },
    "kernelspec": {
      "name": "python3",
      "display_name": "Python 3"
    },
    "language_info": {
      "name": "python"
    }
  },
  "cells": [
    {
      "cell_type": "markdown",
      "metadata": {
        "id": "view-in-github",
        "colab_type": "text"
      },
      "source": [
        "<a href=\"https://colab.research.google.com/github/Anmol-Kumar01/Calculas/blob/main/damped.ipynb\" target=\"_parent\"><img src=\"https://colab.research.google.com/assets/colab-badge.svg\" alt=\"Open In Colab\"/></a>"
      ]
    },
    {
      "cell_type": "code",
      "source": [
        "import math\n",
        "import matplotlib.pyplot as plt"
      ],
      "metadata": {
        "id": "KvXqor07Chl6"
      },
      "execution_count": 101,
      "outputs": []
    },
    {
      "cell_type": "code",
      "execution_count": 102,
      "metadata": {
        "id": "mVfM1XfyBHXv"
      },
      "outputs": [],
      "source": [
        "# A = float(input(\"Enter A :\"))\n",
        "# B = float(input(\"Enter B :\"))\n",
        "# C = float(input(\"Enter c :\"))\n",
        "# x_0 = float(input(\"Enter x_0 :\"))\n",
        "# v_0 = float(input(\"Enter v_0 :\"))"
      ]
    },
    {
      "cell_type": "code",
      "source": [
        "# Over damping\n",
        "A=1\n",
        "B=15\n",
        "C=50\n",
        "x_0=1\n",
        "v_0=10"
      ],
      "metadata": {
        "id": "5Zdq1--Gyy-1"
      },
      "execution_count": 103,
      "outputs": []
    },
    {
      "cell_type": "code",
      "source": [
        "D = B**2-4*A*C\n",
        "alpha = B/(2*A)\n",
        "beta = (abs((B**2)/(4*A**2)-(C/A)))**0.5\n",
        "a1 = (-B + D**0.5)/2*A\n",
        "a2 = (-B - D**0.5)/2*A"
      ],
      "metadata": {
        "id": "P8ShlLoKBr1K"
      },
      "execution_count": 104,
      "outputs": []
    },
    {
      "cell_type": "code",
      "source": [
        "T = [i / 100 for i in range(1000)]"
      ],
      "metadata": {
        "id": "jMr_rasJVIMH"
      },
      "execution_count": 105,
      "outputs": []
    },
    {
      "cell_type": "code",
      "source": [
        "def view(x_0, v_0, D):\n",
        "  if D > 0 :\n",
        "    print(\"Over Damped\")\n",
        "    x1 = []                  # Accumalator\n",
        "      \n",
        "    for t in T:\n",
        "      d1 = (v_0 - x_0*a1) / (a1 - a2)\n",
        "      d2 = (v_0 - x_0*a2) / (a2 - a1)\n",
        "      X = (d1 * math.exp(( - alpha + beta) * t) + d2 * math.exp(( - alpha - beta) * t))   \n",
        "      x1.append(X)\n",
        "  elif D < 0:\n",
        "    print(\"Under Damped\")\n",
        "    x1 = []                 # Accumalator\n",
        "\n",
        "    for t in T:\n",
        "      X = math.exp( - alpha * t) * (x_0 * math.cos(beta * t) + ((v_0 + alpha * x_0) * math.sin(beta * t) / beta))\n",
        "      x1.append(X)\n",
        "  \n",
        "  elif D == 0:\n",
        "    print(\"Critically Damped\")\n",
        "    x1 = []                # Accumalator\n",
        "\n",
        "    for t in T:\n",
        "      X = math.exp( - B * t / (2 * A)) * (x_0 + (v_0 - a1 * x_0) * t)\n",
        "      x1.append(X)\n",
        "  return x1"
      ],
      "metadata": {
        "id": "9yofz_DmCnDk"
      },
      "execution_count": 106,
      "outputs": []
    },
    {
      "cell_type": "code",
      "source": [
        "fig = plt.plot(T,view(x_0, v_0, D))"
      ],
      "metadata": {
        "colab": {
          "base_uri": "https://localhost:8080/",
          "height": 282
        },
        "id": "ZxQirsZB1PIz",
        "outputId": "6b70ce7c-961c-467e-a188-8b247fddb9cc"
      },
      "execution_count": 107,
      "outputs": [
        {
          "output_type": "stream",
          "name": "stdout",
          "text": [
            "Over Damped\n"
          ]
        },
        {
          "output_type": "display_data",
          "data": {
            "text/plain": [
              "<Figure size 432x288 with 1 Axes>"
            ],
            "image/png": "[encoded data removed]"
          },
          "metadata": {
            "needs_background": "light"
          }
        }
      ]
    },
    {
      "cell_type": "code",
      "source": [
        "# under damping\n",
        "A=1\n",
        "B=2\n",
        "C=50\n",
        "x_0=9\n",
        "v_0=1"
      ],
      "metadata": {
        "id": "uNbiOyABzIKh"
      },
      "execution_count": 108,
      "outputs": []
    },
    {
      "cell_type": "code",
      "source": [
        "D = B**2-4*A*C\n",
        "alpha = B/(2*A)\n",
        "beta = (abs((B**2)/(4*A**2)-(C/A)))**0.5\n",
        "a1 = (-B + D**0.5)/2*A\n",
        "a2 = (-B - D**0.5)/2*A"
      ],
      "metadata": {
        "id": "s4v0HdiZzGhj"
      },
      "execution_count": 109,
      "outputs": []
    },
    {
      "cell_type": "code",
      "source": [
        "fig = plt.plot(T,view(x_0, v_0, D))"
      ],
      "metadata": {
        "colab": {
          "base_uri": "https://localhost:8080/",
          "height": 282
        },
        "id": "Tq5Cmb900B-F",
        "outputId": "601c0442-f100-4691-c1bc-95ddec3dc504"
      },
      "execution_count": 110,
      "outputs": [
        {
          "output_type": "stream",
          "name": "stdout",
          "text": [
            "Under Damped\n"
          ]
        },
        {
          "output_type": "display_data",
          "data": {
            "text/plain": [
              "<Figure size 432x288 with 1 Axes>"
            ],
            "image/png": "[encoded data removed]"
          },
          "metadata": {
            "needs_background": "light"
          }
        }
      ]
    },
    {
      "cell_type": "code",
      "source": [
        "# criticle damping\n",
        "A=1\n",
        "B=2\n",
        "C=1\n",
        "x_0=1\n",
        "v_0=1"
      ],
      "metadata": {
        "id": "0gLqRKc-1xja"
      },
      "execution_count": 111,
      "outputs": []
    },
    {
      "cell_type": "code",
      "source": [
        "D = B**2-4*A*C\n",
        "alpha = B/(2*A)\n",
        "beta = (abs((B**2)/(4*A**2)-(C/A)))**0.5\n",
        "a1 = (-B + D**0.5)/2*A\n",
        "a2 = (-B - D**0.5)/2*A"
      ],
      "metadata": {
        "id": "_A7orMyl105U"
      },
      "execution_count": 112,
      "outputs": []
    },
    {
      "cell_type": "code",
      "source": [
        "fig = plt.plot(T,view(x_0, v_0, D))"
      ],
      "metadata": {
        "colab": {
          "base_uri": "https://localhost:8080/",
          "height": 282
        },
        "id": "xyYlGMK313ud",
        "outputId": "2bec70cf-3fdb-4bd9-baca-dc776248570d"
      },
      "execution_count": 113,
      "outputs": [
        {
          "output_type": "stream",
          "name": "stdout",
          "text": [
            "Critically Damped\n"
          ]
        },
        {
          "output_type": "display_data",
          "data": {
            "text/plain": [
              "<Figure size 432x288 with 1 Axes>"
            ],
            "image/png": "[encoded data removed]"
          },
          "metadata": {
            "needs_background": "light"
          }
        }
      ]
    }
  ]
}